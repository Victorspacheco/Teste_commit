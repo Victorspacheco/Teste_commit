{
 "cells": [
  {
   "cell_type": "code",
   "execution_count": 6,
   "metadata": {},
   "outputs": [],
   "source": [
    "#o self.base é o ATRIBUTO do objeto \n",
    "\n",
    "class Retangulo:\n",
    "    def __init__(self, base, altura):\n",
    "        self.base = base\n",
    "        self.altura = altura\n",
    "\n",
    "    def calculo_perimetro(self):\n",
    "        return 2 * self.base + 2 * self.altura\n",
    "\n",
    "    def calculo_area(self):\n",
    "        return self.base * self.altura"
   ]
  },
  {
   "cell_type": "code",
   "execution_count": 9,
   "metadata": {},
   "outputs": [
    {
     "name": "stdout",
     "output_type": "stream",
     "text": [
      "A área do retângulo é 6\n",
      "O perímeitro do retângulo 10\n"
     ]
    }
   ],
   "source": [
    "retangulo1 = Retangulo(2,3)\n",
    "\n",
    "print(f'A área do retângulo é {retangulo1.calculo_area()}')\n",
    "print(f'O perímeitro do retângulo {retangulo1.calculo_perimetro()}')"
   ]
  }
 ],
 "metadata": {
  "kernelspec": {
   "display_name": "Python 3",
   "language": "python",
   "name": "python3"
  },
  "language_info": {
   "codemirror_mode": {
    "name": "ipython",
    "version": 3
   },
   "file_extension": ".py",
   "mimetype": "text/x-python",
   "name": "python",
   "nbconvert_exporter": "python",
   "pygments_lexer": "ipython3",
   "version": "3.11.3"
  }
 },
 "nbformat": 4,
 "nbformat_minor": 2
}
